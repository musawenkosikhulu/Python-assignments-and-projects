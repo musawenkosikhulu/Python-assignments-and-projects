{
 "cells": [
  {
   "cell_type": "markdown",
   "id": "charitable-property",
   "metadata": {},
   "source": [
    "# ***Musawenkosi Khulu***"
   ]
  },
  {
   "cell_type": "markdown",
   "id": "fossil-cleaning",
   "metadata": {},
   "source": [
    "## ***Question 1***"
   ]
  },
  {
   "cell_type": "code",
   "execution_count": 3,
   "id": "protected-michael",
   "metadata": {
    "scrolled": false
   },
   "outputs": [
    {
     "name": "stdout",
     "output_type": "stream",
     "text": [
      "Enter the number of seconds: 3601\n",
      "3601 seconds = 1 hours, 0 minutes, 1 seconds\n"
     ]
    }
   ],
   "source": [
    "n = int(input(\"Enter the number of seconds: \")) #This chuck of code asks the user to enter the number of seconds so that it will compute the how many weeks days hours  minutes and seconds \n",
    "second = n\n",
    "\n",
    "week = n //(604800) #This line of code takes n in seconds and divide it with 7 days x 24 hours x 60 seconds x 60 seconds = 604800 seconds to give us weeks\n",
    "n = n %(604800) #This line of code updates the value of n which takes the produces only the remainder from weeks\n",
    "\n",
    "day = n // (86400) #This line of code takes n in seconds and divide it with 24 hours x 60 minutes x 60 seconds = 86 400 seconds to gives days\n",
    "\n",
    "n = n % (86400) #This line of code updates the value of n which takes the produces only the remainder from days\n",
    "hour = n // (3600) #This line of code takes n in seconds and divide it with 60 minutes x 60 seconds = 3600 seconds to give us hours\n",
    " \n",
    "n %= 3600 #This line of code updates the value of n which takes the produces only the remainder from hours\n",
    "minutes = n // 60 #This line of code takes n in seconds and divide it with 60 minutes = 60 seconds to give us minutes\n",
    "n %=60     #This line of code updates the value of n which takes the produces only the remainder from minutes\n",
    "seconds = n #This is just seconds from all the remainders\n",
    "\n",
    "#The conditional statements below checks if the number of seconds correspond to weeks, days, hours, minutes or seconds\n",
    "#The seconds does not reach weeks for an example it will not excute it go to the next condition until it meets where the condition is True\n",
    "if week != 0:\n",
    "    print(second,\"seconds =\",week,\"weeks,\",day,\"days,\",hour,\"hours,\",minutes,\"minutes,\", seconds,\"seconds\")\n",
    "elif week != 0 and day == 0:\n",
    "    print(second,\"seconds =\",day,\"days\", hour,\"hours,\", minutes,\"minutes,\", seconds,\"seconds\")\n",
    "elif week == 0 and day == 0 and hour != 0:\n",
    "    print(second,\"seconds =\",hour,\"hours,\", minutes,\"minutes,\", seconds,\"seconds\")\n",
    "elif week == 0 and day == 0 and hour == 0 and minutes != 0:\n",
    "    print(second,\"seconds =\",minutes,\"minutes,\", seconds,\"seconds\")\n",
    "elif week == 0 and day == 0 and hour == 0 and minutes == 0 and seconds != 0:\n",
    "    print(second,\"seconds =\",seconds,\"seconds\")"
   ]
  },
  {
   "cell_type": "markdown",
   "id": "scientific-simpson",
   "metadata": {},
   "source": [
    "## ***Question 2***"
   ]
  },
  {
   "cell_type": "code",
   "execution_count": 4,
   "id": "logical-steel",
   "metadata": {},
   "outputs": [
    {
     "name": "stdout",
     "output_type": "stream",
     "text": [
      "      Item_Number        Item           Price \n",
      "-------------------------------------------- \n",
      "          1              Cheese_Pizza   R150 \n",
      "          2              Spinach_Pizza  R210 \n",
      "          3              Chicken_Pizza  R275 \n",
      "\n",
      "Welcome to Musa`s Restuarant, Please place an order from the menu: 3\n",
      "How many CHICKEN PIZZAS do you want?5\n",
      "The total bill will be: 1375\n",
      "Thank you for the support please come back again\n"
     ]
    }
   ],
   "source": [
    "\n",
    "#This creates a table of the menu the user can see what they can choose from\n",
    "print('\\\n",
    "      Item_Number        Item           Price','\\n'\n",
    "           '--------------------------------------------','\\n'\n",
    "     '          1              Cheese_Pizza   R150','\\n'\n",
    "     '          2              Spinach_Pizza  R210','\\n'\n",
    "     '          3              Chicken_Pizza  R275','\\n')\n",
    "Order=int(input(\"Welcome to Musa`s Restuarant, Please place an order from the menu: \")) #This chuck ask`s the user to place an order(integer) from the menu\n",
    "\n",
    "#These are the prices for our different pizza in the restuarant\n",
    "Cheese_Pizza =  150\n",
    "Spinach_Pizza = 210\n",
    "Chicken_Pizza = 275\n",
    "\n",
    "#This chuck of comditional statement depend on which Order they have inserted when they were prompted\n",
    "#Which means if the user have inserted 1 the first statement will be excuted or they insert 2 the elif sttement will be excuted\n",
    "#The last else statement will be excuted if the user chooses something out of the range of Order between 1 to 3\n",
    "#Inside each conditional statement the bill(integer) is calculated for different orders depending on the amount of items they want\n",
    "if Order==1:\n",
    "    Quantity=int(input(\"How many CHEESE PIZZAS do you want?\"))\n",
    "    Bill_1=Quantity*Cheese_Pizza\n",
    "    print(\"The total bill will be:\",Bill_1)\n",
    "    print(\"Thank you for the support please come back again\")\n",
    "elif Order==2: \n",
    "    Quantity=int(input(\"How many SPINACH PIZZAS do you want?\"))\n",
    "    Bill_1=Quantity*Spinach_Pizza\n",
    "    print(\"The total bill will be:\",Bill_1)\n",
    "    print(\"Thank you for the support please come back again\")\n",
    "elif Order==3: \n",
    "    Quantity=int(input(\"How many CHICKEN PIZZAS do you want?\"))\n",
    "    Bill_2=Quantity*Chicken_Pizza\n",
    "    print(\"The total bill will be:\",Bill_2)\n",
    "    print(\"Thank you for the support please come back again\")\n",
    "else:\n",
    "    print(\"\\n\",\"Sorry, it seems like your order is out of range. Please select between 1 to 3. Thank you.\")"
   ]
  },
  {
   "cell_type": "markdown",
   "id": "complicated-manor",
   "metadata": {},
   "source": [
    "## ***Question 3***"
   ]
  },
  {
   "cell_type": "markdown",
   "id": "together-wrestling",
   "metadata": {},
   "source": [
    "## i)"
   ]
  },
  {
   "cell_type": "code",
   "execution_count": 5,
   "id": "infinite-literacy",
   "metadata": {},
   "outputs": [
    {
     "name": "stdout",
     "output_type": "stream",
     "text": [
      "**********\n",
      " *       *\n",
      "  *      *\n",
      "   *     *\n",
      "    *    *\n",
      "     *   *\n",
      "      ****  \n"
     ]
    }
   ],
   "source": [
    "# This chuck of uses simple string manupulation(multiplication(*) and addition(+)) and concatination\n",
    "print(10*\"*\")\n",
    "print(\" \"+\"*\"+7*\" \"+\"*\")\n",
    "print(2*\" \"+\"*\"+6*\" \"+\"*\")\n",
    "print(3*\" \"+\"*\"+5*\" \"+\"*\")\n",
    "print(4*\" \"+\"*\"+4*\" \"+\"*\")\n",
    "print(5*\" \"+\"*\"+3*\" \"+\"*\")\n",
    "print(6*\" \"+4*\"*\"+2*\" \")\n"
   ]
  },
  {
   "cell_type": "markdown",
   "id": "hazardous-italian",
   "metadata": {},
   "source": [
    "## ii)"
   ]
  },
  {
   "cell_type": "code",
   "execution_count": 6,
   "id": "dated-horse",
   "metadata": {},
   "outputs": [
    {
     "name": "stdout",
     "output_type": "stream",
     "text": [
      "      ********** \n",
      "       *       * \n",
      "        *      * \n",
      "         *     * \n",
      "          *    * \n",
      "           *****\n"
     ]
    }
   ],
   "source": [
    "#This code below take an advantage of the new line character '\\n' in Python. It is used to indicate the end of a line of text. \n",
    "print('\\\n",
    "      **********','\\n'\n",
    "     '       *       *','\\n'\n",
    "     '        *      *','\\n'\n",
    "     '         *     *','\\n'\n",
    "     '          *    *','\\n'\n",
    "     '           *****')"
   ]
  },
  {
   "cell_type": "markdown",
   "id": "figured-neutral",
   "metadata": {},
   "source": [
    "## ***Question 4***"
   ]
  },
  {
   "cell_type": "code",
   "execution_count": 7,
   "id": "studied-colleague",
   "metadata": {},
   "outputs": [
    {
     "name": "stdout",
     "output_type": "stream",
     "text": [
      "Please enter the value of x: 1\n",
      "Please enter the value of y: 2.4\n",
      "h(1.0,2.4)= -0.4\n"
     ]
    }
   ],
   "source": [
    "import numpy as np #This chuck of code imports a scientific library called numpy\n",
    "                    #The numpy library will help us with pi, cos(x), |x -y|, sqrt\n",
    "\n",
    "x = float(input(\"Please enter the value of x: \"))\n",
    "y = float(input(\"Please enter the value of y: \"))\n",
    "\n",
    "#Since we are dealing with a piecewise function therefore we have to have conditions\n",
    "#These condition must satify the given piecewise function in the question\n",
    "#The first if statement checks for condition x < 0, the second elif checks x >= 0 or x < 1\n",
    "#The second elif checks x >= 1 or x < 2 and the final one checks x >= 0\n",
    "#After the conditions are searched the equation under will be excuted\n",
    "\n",
    "if x < 0:\n",
    "    h = np.cos((np.pi)*y)\n",
    "elif 0<= x < 0:\n",
    "    h = np.abs(x-y)\n",
    "elif 1 <= x < 2:\n",
    "    h = 2 - ((x**2)*y)\n",
    "elif x >= 2:\n",
    "    (np.exp(-y))/(np.sqrt(1+(x**2)))\n",
    "\n",
    "print(\"h(\"+str(x)+\",\"+str(y)+\")\"+\"=\",round(h,2)) #The round fuction rounds up the float into 1 decimal place"
   ]
  },
  {
   "cell_type": "markdown",
   "id": "professional-vietnam",
   "metadata": {},
   "source": [
    "## ***Question 5***"
   ]
  },
  {
   "cell_type": "code",
   "execution_count": 16,
   "id": "twelve-identification",
   "metadata": {
    "scrolled": true
   },
   "outputs": [
    {
     "name": "stdout",
     "output_type": "stream",
     "text": [
      "face 6\n",
      "The dice face 6 appeared: 1 times\n"
     ]
    }
   ],
   "source": [
    "from random import randint #In order randomize the die randint is imported simulate the randomness of die beinf thrown\n",
    "\n",
    "count_face_6 = 0           #This code initialize the number of time the dice faced up\n",
    "\n",
    "#This code choose random integers using the random library\n",
    "#The if statements below checks if the number is randomly selected in the bunch \n",
    "#After checking that it adds to the count and print below in the statement.\n",
    "#If the if statement condition is met when the random number is 6(face 6) the statement will be true and excute the code below\n",
    "if randint(1,6) == 6:\n",
    "    print(\"face 6\")\n",
    "    count_face_6 +=1      \n",
    "if randint(1,6) == 6:\n",
    "    print(\"face 6\")\n",
    "    count_face_6 +=1\n",
    "if randint(1,6) == 6:\n",
    "    print(\"face 6\")\n",
    "    count_face_6 +=1\n",
    "if randint(1,6) == 6:\n",
    "    print(\"face 6\")\n",
    "    count_face_6 +=1\n",
    "if randint(1,6) == 6:\n",
    "    print(\"face 6\")\n",
    "    count_face_6 +=1\n",
    "\n",
    "print(\"The dice face 6 appeared:\",count_face_6,\"times\")\n"
   ]
  },
  {
   "cell_type": "markdown",
   "id": "amateur-index",
   "metadata": {},
   "source": [
    "## ***Question 6*** "
   ]
  },
  {
   "cell_type": "code",
   "execution_count": 21,
   "id": "bacterial-baptist",
   "metadata": {},
   "outputs": [
    {
     "name": "stdout",
     "output_type": "stream",
     "text": [
      "Tails\n",
      "Tails\n",
      "Tails\n",
      "\n",
      " Tails appear 3 times\n"
     ]
    }
   ],
   "source": [
    "import random  #This code import the library so we can use randomazation\n",
    " \n",
    "count = 0 #This initialize the counts of tails\n",
    "\n",
    "#The if statements below use random.choice which take a list of values randomly \n",
    "#Inside the random.choice there are more heads than tails as the question wants to do\n",
    "#If the condition in the if statement is true it will count and print tails randomly\n",
    "if random.choice([\"Head\",\"Head\",\"Tail\"]) == \"Tail\":\n",
    "    print(\"Tails\")\n",
    "    count +=1\n",
    "if random.choice([\"Head\",\"Head\",\"Tail\"]) == \"Tail\":\n",
    "    print(\"Tails\")\n",
    "    count +=1\n",
    "if random.choice([\"Head\",\"Head\",\"Tail\"]) == \"Tail\":\n",
    "    print(\"Tails\")\n",
    "    count +=1\n",
    "if random.choice([\"Head\",\"Head\",\"Tail\"]) == \"Tail\":\n",
    "    print(\"Tails\")\n",
    "    count +=1\n",
    "if random.choice([\"Head\",\"Head\",\"Tail\"]) == \"Tail\":\n",
    "    print(\"Tails\")\n",
    "    count +=1\n",
    "\n",
    "#The print statement will the number of tails that appear\n",
    "print(\"\\n\",\"Tails appear\",count,\"times\")"
   ]
  }
 ],
 "metadata": {
  "kernelspec": {
   "display_name": "Python 3",
   "language": "python",
   "name": "python3"
  },
  "language_info": {
   "codemirror_mode": {
    "name": "ipython",
    "version": 3
   },
   "file_extension": ".py",
   "mimetype": "text/x-python",
   "name": "python",
   "nbconvert_exporter": "python",
   "pygments_lexer": "ipython3",
   "version": "3.9.2"
  }
 },
 "nbformat": 4,
 "nbformat_minor": 5
}
