{
 "cells": [
  {
   "cell_type": "markdown",
   "id": "hidden-recipient",
   "metadata": {},
   "source": [
    "## ***Musawenkosi Khulu***"
   ]
  },
  {
   "cell_type": "markdown",
   "id": "patent-killer",
   "metadata": {},
   "source": [
    "### ***Question 1***"
   ]
  },
  {
   "cell_type": "markdown",
   "id": "legislative-atlantic",
   "metadata": {},
   "source": [
    "### ***a)***"
   ]
  },
  {
   "cell_type": "code",
   "execution_count": 46,
   "id": "numerous-socket",
   "metadata": {},
   "outputs": [
    {
     "name": "stdout",
     "output_type": "stream",
     "text": [
      "Number of times to flip coin: 100\n",
      "Tails produced was 61 times.\n"
     ]
    }
   ],
   "source": [
    "import random                                    #This code imports random integers so that I can use them to flip the coin\n",
    "\n",
    "n = int(input(\"Number of times to flip coin: \")) #This code ask the user the n number of times they want to flip the coin\n",
    "count_tails = 0                                  #This code counts the number of tails that appeared                                      #This code initialise the number of tails in the fair coin and I choose 1 to be tails\n",
    "for i in range(n):                               #This will repeat the coin flip n number of times \n",
    "    flip = random.randint(0, 1)                  #This randomise my coin flips with 1 being the Tails 0 is heads\n",
    "    if (flip == 1):                              #This condiion checks if the flip matches the 1 \n",
    "        count_tails +=1                          #This code right here counts the number of Tails that appeared in the flip\n",
    "\n",
    "print(\"Tails produced was {} times.\".format(count_tails)) #This code have count in function to count how many times did Tails appear in the appended list"
   ]
  },
  {
   "cell_type": "markdown",
   "id": "thermal-poker",
   "metadata": {},
   "source": [
    "### ***b)***"
   ]
  },
  {
   "cell_type": "code",
   "execution_count": 3,
   "id": "latest-baseball",
   "metadata": {
    "scrolled": true
   },
   "outputs": [
    {
     "name": "stdout",
     "output_type": "stream",
     "text": [
      "Enter the number of times you want to flip the coin: 10\n",
      "Enter the number of times you want repeat the experiment: 10\n"
     ]
    }
   ],
   "source": [
    "import random #This code imports random integers so that I can use them to flip the coin\n",
    "\n",
    "\n",
    "n = int(input(\"Enter the number of times you want to flip the coin: \")) #This code ask the user the n number of times they want to flip the coin\n",
    "X = []                                                                  #This creates an empty list so that we can store our outcomes\n",
    "N = int(input(\"Enter the number of times you want repeat the experiment: \")) #This code will ask the user how many times they want to repeat the experiment\n",
    "for j in range(N):                                   #This loop will repeat the experiment N times\n",
    "    count_tails = 0                                  #This initials the counts of how many times did tails appear\n",
    "    for i in range(n):                               #This will repeat the coin flip n number of times \n",
    "        flip = random.randint(0, 1)                  #This randomise my coin flips with 1 being the Tails \n",
    "        if (flip == 1):                              #This condiion checks if the flip matches the 1 for Tails so that it can append to the list for counting\n",
    "            count_tails += 1\n",
    "                                                     \n",
    "    X.append(count_tails)                            #This code right here appends the number of Tails that appeared in the n flips and N repeated times\n",
    "    \n"
   ]
  },
  {
   "cell_type": "markdown",
   "id": "adult-director",
   "metadata": {},
   "source": [
    "### ***c)***"
   ]
  },
  {
   "cell_type": "code",
   "execution_count": 4,
   "id": "heard-congo",
   "metadata": {},
   "outputs": [
    {
     "name": "stdout",
     "output_type": "stream",
     "text": [
      "Enter the number of times you want to flip the coin: 10\n",
      "Enter the number of times you want repeat the experiment: 100\n",
      "[2, 8, 5, 6, 3, 6, 9, 5, 4, 5, 6, 3, 4, 5, 5, 6, 4, 5, 6, 4, 6, 5, 5, 4, 5, 5, 7, 4, 5, 5, 5, 5, 6, 4, 6, 5, 3, 3, 5, 6, 6, 5, 2, 5, 6, 5, 3, 2, 4, 8, 4, 6, 5, 4, 6, 5, 5, 4, 6, 6, 8, 6, 4, 7, 6, 6, 7, 8, 4, 8, 3, 4, 3, 3, 8, 7, 7, 5, 5, 7, 3, 4, 6, 6, 3, 3, 4, 4, 5, 7, 7, 5, 6, 8, 6, 3, 8, 6, 5, 5]\n"
     ]
    }
   ],
   "source": [
    "import random #This code imports random integers so that I can use them to flip the coin\n",
    "\n",
    "\n",
    "n = int(input(\"Enter the number of times you want to flip the coin: \")) #This code ask the user the n number of times they want to flip the coin\n",
    "X = []                                                             #This creates an empty list so that we can store our outcomes\n",
    "N = int(input(\"Enter the number of times you want repeat the experiment: \"))\n",
    "for j in range(N):\n",
    "    count_tails = 0                                  #This initials\n",
    "    for i in range(n):                               #This will repeat the coin flip n number of times \n",
    "        flip = random.randint(0, 1)                  #This randomise my coin flips with 1 being the Tails \n",
    "        if (flip == 1): \n",
    "            count_tails += 1\n",
    "                                                     #This condiion checks if the flip matches the 1 for Tails so that it can append to the list for counting\n",
    "    X.append(count_tails)                            #This code right here appends the number of Tails that appeared in the flip\n",
    "    \n",
    "print(X)                                             #This code prints out how the frequency of tail show up in x times"
   ]
  },
  {
   "cell_type": "markdown",
   "id": "metallic-blair",
   "metadata": {},
   "source": [
    "### ***d)***"
   ]
  },
  {
   "cell_type": "code",
   "execution_count": 3,
   "id": "informal-noise",
   "metadata": {},
   "outputs": [
    {
     "name": "stdout",
     "output_type": "stream",
     "text": [
      "Enter the number of times you want to flip the coin: 10\n",
      "Enter the number of times you want repeat the experiment: 100000\n"
     ]
    },
    {
     "data": {
      "text/plain": [
       "[Text(0.5, 1.0, 'Frequency $F(x)$ and random viriable $x$'),\n",
       " Text(0, 0.5, 'Frequency'),\n",
       " Text(0.5, 0, 'Multi Histogram')]"
      ]
     },
     "execution_count": 3,
     "metadata": {},
     "output_type": "execute_result"
    },
    {
     "data": {
      "image/png": "[encoded data removed]",
      "text/plain": [
       "<Figure size 432x288 with 1 Axes>"
      ]
     },
     "metadata": {
      "needs_background": "light"
     },
     "output_type": "display_data"
    }
   ],
   "source": [
    "import random #This code imports random integers so that I can use them to flip the coin\n",
    "import matplotlib.pyplot as plt\n",
    "\n",
    "\n",
    "n = int(input(\"Enter the number of times you want to flip the coin: \")) #This code ask the user the n number of times they want to flip the coin\n",
    "X = []                                                             #This creates an empty list so that we can store our outcomes\n",
    "N = int(input(\"Enter the number of times you want repeat the experiment: \"))\n",
    "for j in range(N):\n",
    "    count_tails = 0\n",
    "    for i in range(n):                                 #This will repeat the coin flip n number of times \n",
    "        flip = random.randint(0, 1)                    #This randomise my coin flips with 1 being the Tails \n",
    "        if (flip == 1): \n",
    "            count_tails += 1\n",
    "                                                       #This condiion checks if the flip matches the 1 for Tails so that it can append to the list for counting\n",
    "    X.append(count_tails)                              #This code right here appends the number of Tails that appeared in the flip\n",
    "\n",
    "x = np.random.normal(size = N)                         #This is the random variable x which iis plotted on the graph as the frequency\n",
    "\n",
    "plt.hist(x,bins = 10,label = 'random variable $x$',alpha=0.3)     #This code plots the random variable x with auto color from kwargs                \n",
    "plt.hist(X, bins = 10,color = 'm', label = 'Tails frequency $F(x)$',alpha=0.3) #This code plots the frequency F(x) with auto color from kwardgs\n",
    "plt.legend(loc = 'upper right')                         #This sets the location of the legends to upper left to show the difference in graphs\n",
    "plt.gca().set(title='Frequency $F(x)$ and random viriable $x$', ylabel='Frequency', xlabel ='Multi Histogram') #This code sets the title, the x and y axes labels."
   ]
  },
  {
   "cell_type": "markdown",
   "id": "occasional-palestinian",
   "metadata": {},
   "source": [
    "### ***Question 2***"
   ]
  },
  {
   "cell_type": "markdown",
   "id": "rapid-tobago",
   "metadata": {},
   "source": [
    "### ***first bullet***"
   ]
  },
  {
   "cell_type": "code",
   "execution_count": 1,
   "id": "automotive-magic",
   "metadata": {
    "scrolled": false
   },
   "outputs": [
    {
     "data": {
      "image/png": "[encoded data removed]",
      "text/plain": [
       "<Figure size 432x288 with 1 Axes>"
      ]
     },
     "metadata": {
      "needs_background": "light"
     },
     "output_type": "display_data"
    }
   ],
   "source": [
    "import matplotlib.pyplot as plt  #This code import a library matplotlib so that we can use it to visualise our graphs.\n",
    "import numpy as np               #This code will a library numpy which is used for mathematical functions like pi, sin, cos etc.\n",
    "\n",
    "\n",
    "x = np.linspace(1,2)             #This code will creates an interval of [1,2].\n",
    "\n",
    "h_1 = x**3 -2*x + 1              #This is a function h_1(x) that is going to be plotted. \n",
    "h_2 = -2*(x**2) + x + 3          #This is a function h_2(x) that is going to be plotted.        \n",
    "\n",
    "plt.plot(x,h_1, color = 'green', label = '$h_1(x) = x^3 -2x + 1$') #This code plots the graph of h_1(x) against the interval [1,2].\n",
    "plt.plot(x,h_2, color = 'red', label = '$h_2(x) = -2x^2 + x + 3$') #This code plots the graph of h_2(x) against the interval [1,2].\n",
    "plt.legend(loc = 'upper left')                                     #This code sets the location of the legends in the graph.\n",
    "plt.gca().set(title='Graph $h_2(x) = -2x^2 + x + 3$ and $h_1(x) = x^3 -2x + 1$', ylabel='y - axis', xlabel ='x - axis') #This code sets the title, the x and y axes labels.\n",
    "plt.grid() #This code gives a grid"
   ]
  },
  {
   "cell_type": "markdown",
   "id": "thirty-butter",
   "metadata": {},
   "source": [
    "## ***(a) to (d)***"
   ]
  },
  {
   "cell_type": "markdown",
   "id": "superb-watch",
   "metadata": {},
   "source": [
    "### ***second bullet point***"
   ]
  },
  {
   "cell_type": "code",
   "execution_count": 69,
   "id": "banner-courage",
   "metadata": {},
   "outputs": [
    {
     "name": "stdout",
     "output_type": "stream",
     "text": [
      "The estimate root of the non-linear equation h_1(x)=h_2(x) is 1.3429230827771703\n"
     ]
    }
   ],
   "source": [
    "a = 1                                     #This initialise the interval [1,2] where a = 1.\n",
    "b = 2                                     #This initialise the interval [1,2] where b = 2.\n",
    "n = 100                                   #This will set the iterations to be 100 as specified.\n",
    "for i in range(n):                        #This code will create a loop that will repeat n = 100 times.\n",
    "    p = (b + a) /2                        #This code calculates p for (a) and (d).\n",
    "    f_a = a**3 -2*a +2*(a**2) - a - 2     #This is obtained from function equating h_1 and h_2, and the inserting a=1 into the function.\n",
    "    f_c = p**3 -2*p +2*(p**2) - p - 2     #This is obtained from function equating h_1 and h_2, and the inserting p into the function.\n",
    "\n",
    "    if f_a*f_c < 0:                       #This code checks if the condition f(a)xf(p) < 0 is mantained .\n",
    "        b = p                             #This code shrink the interval from right if the condition is met.\n",
    "    else:\n",
    "        a = p                             #This code equates a to p if the condition f(a)xf(p) < 0 is not met.\n",
    "        \n",
    "print(\"The estimate root of the non-linear equation h_1(x) = h_2(x) is {}\".format(p)) #This prints out the estimation of the root of the non-linear equation h_1(x)=h_2(x)"
   ]
  },
  {
   "cell_type": "markdown",
   "id": "fourth-athletics",
   "metadata": {},
   "source": [
    "### ***Question 3***"
   ]
  },
  {
   "cell_type": "code",
   "execution_count": 12,
   "id": "dimensional-passage",
   "metadata": {},
   "outputs": [
    {
     "data": {
      "text/plain": [
       "['Goo', 'ood', 'od ', 'd j', ' jo', 'job']"
      ]
     },
     "execution_count": 12,
     "metadata": {},
     "output_type": "execute_result"
    }
   ],
   "source": [
    "def nGrams(InputString, n, end = \"\"): #This line of code creates the a function which takes two arguements\n",
    "    \"\"\" \n",
    "    In this code the arguements are 'InputString' and 'n'.\n",
    "    InputString is a string variable in which our user should put in.\n",
    "    n is a integer variable which is what will split our string to given n.\n",
    "    end = \"\" helps to print out the list in a horizontal list\n",
    "    \n",
    "    \"\"\"\n",
    "    StringList = []                         #This code creates a list where the split string will be store in order to print out at the end\n",
    "    \n",
    "    for i in range(len(InputString)-(n-1)): #This code creates a loop that will loop through a given string in a range of the length of the string minus n-1 to gives us an even number of splits of the string\n",
    "        Grams_splits = InputString[i:i+n]   #This code splits the string to different parts\n",
    "        StringList.append(Grams_splits)     #This code appends the splited parts of the string to StringList that we created earlier     \n",
    "    return StringList                       #This code returns the appended list which will give us the clear view of the variables\n",
    "\n",
    "\n",
    "nGrams(string, n)                    #This is just a test to see if my code produce what I inteded in to do."
   ]
  },
  {
   "cell_type": "code",
   "execution_count": 23,
   "id": "stone-relation",
   "metadata": {},
   "outputs": [
    {
     "name": "stdout",
     "output_type": "stream",
     "text": [
      "similarity between (Text1 , Text1) = 1.0\n",
      "similarity between (Text1 , Text2) = 0.5448275862068965\n",
      "similarity between (Text1 , Text3) = 0.12681912681912683\n",
      "similarity between (Text1 , Text4) = 0.1278825995807128\n",
      "similarity between (Text2 , Text2) = 1.0\n",
      "similarity between (Text2 , Text3) = 0.13111545988258316\n",
      "similarity between (Text2 , Text4) = 0.13438735177865613\n",
      "similarity between (Text3 , Text3) = 1.0\n",
      "similarity between (Text3 , Text4) = 0.4050632911392405\n",
      "similarity between (Text4 , Text4) = 1.0\n"
     ]
    }
   ],
   "source": [
    "fname      = 'PlagiarismTexts.txt'    #This code assign the file name so that we can read it later\n",
    "P_file     = open(fname, 'r')         #This code opens a file for reading\n",
    "Read_lines = P_file.readlines()       #This code reads in, line-by-line; p_file is a list\n",
    "P_file.close()                        #This code closes the stream\n",
    "\n",
    "#print(Read_lines)\n",
    "\n",
    "Clear_paragraph =[Read_lines[1][:-1],Read_lines[4][:-1],Read_lines[7][:-1],Read_lines[10][:-1],] #This code uses slicing to remove all the unwanted parts of my code in the begining and the end.\n",
    "\n",
    "def similarity(s,r,n=3): #This code creates a function that we check the similarity in a file using the nGram function\n",
    "    '''\n",
    "    This function return the similarity as the fraction \n",
    "    of intersection and the union of the strings r and s\n",
    "    \n",
    "    It takes the input strings s & r and n numbers of ngrams from the function created earlier \n",
    "    The function returns the fraction of string r intersection string s over string r union string s \n",
    "    '''\n",
    "    A=len(set.intersection(set(nGrams(s,n)),set(nGrams(r,n)))) #This code takes the length of a set of intersection of string r and s from the input\n",
    "    B=len(set.union(set(nGrams(s,n)),set(nGrams(r,n))))        #This code takes the length of a set of union of string r and s from the input \n",
    "    return A/B\n",
    "\n",
    "#This code below check if there is any similarities in the file given\n",
    "for i in range(4):\n",
    "    for j in range(i,4):\n",
    "        print('similarity between (Text{} , Text{}) = {}'.format(i+1,j+1,similarity(Clear_paragraph[i],Clear_paragraph[j])))"
   ]
  },
  {
   "cell_type": "markdown",
   "id": "spiritual-exclusion",
   "metadata": {},
   "source": [
    "### ***Question 4***"
   ]
  },
  {
   "cell_type": "markdown",
   "id": "fresh-luxembourg",
   "metadata": {},
   "source": [
    "### ***a)***"
   ]
  },
  {
   "cell_type": "code",
   "execution_count": 5,
   "id": "divine-bracelet",
   "metadata": {
    "scrolled": true
   },
   "outputs": [
    {
     "name": "stdout",
     "output_type": "stream",
     "text": [
      "The Runga-kutta four-order approximation for the population at t = 50 is 16.656030192222836\n"
     ]
    }
   ],
   "source": [
    "import numpy as np          #This code will a library numpy which is used for mathematical functions like pi, sin, cos etc.\n",
    "\n",
    "#The parameters r and K represent the growth rate and carrying capacity respectively\n",
    "r = 0.4\n",
    "K = 20\n",
    "y_0 = 2.44                   #The initial population at t=0                 \n",
    "h = 0.01                     #step size of the estimation\n",
    "x_n = 50                     #This is the end interval of the function\n",
    "n = int(x_n/h)               #This code calculates n = x_n - x_0/h to find the range of out iterations\n",
    "\n",
    "for i in range(n+1):                                #This loop repeats the Runga-kutta method for 5001 times as specified by the n calculations\n",
    "    \n",
    "    k_1 = h*(r*y_0*(1-y_0/K)-y_0**2/(1+y_0**2))     #This code calculates the first k value(k1) of the Runga-kutta method\n",
    "    \n",
    "    y_1 = y_0 + k_1/2                               #This code updates the function i.e hf(t_i+1/2*h,y_i + 1/2*k1)\n",
    "    \n",
    "    k_2 = h*(r*y_1*(1-y_1/K) - y_1**2/(1 + y_1**2)) #This code calculates the second k value(k2) of the Runga-kutta method\n",
    "    \n",
    "    y_2 = y_0 + k_2/2                               #This code updates the function i.e hf(t_i+1/2*h,y_i + 1/2*k2)\n",
    "    \n",
    "    k_3 = h*(r*y_2*(1-y_2/K) - y_2**2/(1 + y_2**2)) #This code calculates the third k value(k3) of the Runga-kutta method\n",
    "    \n",
    "    y_3 = y_0 +k_3                                  #This code updates the function i.e hf(t_i+1/2*h,y_i + 1/2*k3)\n",
    "    \n",
    "    k_4 = h*(r*y_3*(1-y_3/K) - y_3**2/(1 + y_2**2)) #This code calculates the fourth k value(k4) of the Runga-kutta method\n",
    "    \n",
    "    k = (k_1/6 + k_2/3 + k_3/3 + k_4/6)             #This is just the sum of all the k value in the method\n",
    "    \n",
    "    y  = y_0 + k                                    #This code updates the f(t,y) function so that it can iterate the runga-kutta method \n",
    "    y_0 = y                                         #This assign the new y_0 from the y above\n",
    "    \n",
    "    \n",
    "print(\"The Runga-kutta four-order approximation for the population at t = 50 is {}\".format(y)) #This code just print out the Runga-kutta approximation"
   ]
  },
  {
   "cell_type": "markdown",
   "id": "apart-sleep",
   "metadata": {},
   "source": [
    "### ***b)***"
   ]
  },
  {
   "cell_type": "code",
   "execution_count": 7,
   "id": "superb-minutes",
   "metadata": {
    "scrolled": true
   },
   "outputs": [
    {
     "data": {
      "image/png": "[encoded data removed]",
      "text/plain": [
       "<Figure size 432x288 with 1 Axes>"
      ]
     },
     "metadata": {
      "needs_background": "light"
     },
     "output_type": "display_data"
    }
   ],
   "source": [
    "import numpy as np              #This code will a library numpy which is used for mathematical functions like pi, sin, cos etc.\n",
    "import matplotlib.pyplot as plt #This code import the matplotlib.pyplot library which will give the visuals of our approximation.\n",
    "\n",
    "x_axis = []                 #This code creates an empty list so that I can append the number of iterations from the loop.\n",
    "y_axis = []                 #This code creates an empty list for appending Runga-kutta approximation after every loop.\n",
    "\n",
    "#The parameters r and K represent the growth rate and carrying capacity respectively.\n",
    "r = 0.4\n",
    "K = 20\n",
    "y_0 = 2.44                   #The initial population at t=0.                 \n",
    "h = 0.01                     #step size of the estimation.\n",
    "x_n = 80                     #This is the end interval of the function.\n",
    "n = int(x_n/h)               #This code calculates n = x_n - x_0/h to find the range of out iterations.\n",
    "\n",
    "for i in range(n):\n",
    "    \n",
    "    k_1 = h*(r*y_0*(1-y_0/K)-y_0**2/(1+y_0**2))     #This code calculates the first k value(k1) of the Runga-kutta method.\n",
    "    \n",
    "    y_1 = y_0 + k_1/2                               #This code updates the function i.e hf(t_i+1/2*h,y_i + 1/2*k1).\n",
    "    \n",
    "    k_2 = h*(r*y_1*(1-y_1/K) - y_1**2/(1 + y_1**2)) #This code calculates the second k value(k2) of the Runga-kutta method.\n",
    "    \n",
    "    y_2 = y_0 + k_2/2                               #This code updates the function i.e hf(t_i+1/2*h,y_i + 1/2*k2).\n",
    "    \n",
    "    k_3 = h*(r*y_2*(1-y_2/K) - y_2**2/(1 + y_2**2)) #This code calculates the third k value(k3) of the Runga-kutta method.\n",
    "    \n",
    "    y_3 = y_0 +k_3                                  #This code updates the function i.e hf(t_i+1/2*h,y_i + 1/2*k3).\n",
    "    \n",
    "    k_4 = h*(r*y_3*(1-y_3/K) - y_3**2/(1 + y_2**2)) #This code calculates the fourth k value(k4) of the Runga-kutta method.\n",
    "    \n",
    "    k = (k_1/6 + k_2/3 + k_3/3 + k_4/6)             #This is just the sum of all the k value in the method.\n",
    "    \n",
    "    y  = y_0 + k                                    #This code updates the f(t,y) function so that it can iterate the runga-kutta method. \n",
    "    y_0 = y                                         #This assign the new y_0 from the y above.\n",
    "    x_axis.append(i)                                #This line appends the number of iterations to plot against the Runga-kutta approximation.\n",
    "    y_axis.append(y)                                #This code appends all the Runga-kutta approximation.\n",
    "    \n",
    "    \n",
    "plt.plot(x_axis,y_axis)                             #This code plot out graph for the approximation.\n",
    "plt.title('Approximate solution')                   #This line creates the title of the plot.\n",
    "plt.xlabel('x-axis')                                #This creates the x-axis of the graph.\n",
    "plt.ylabel('y-axis')                                #This creates the y-axis of the graph.\n",
    "plt.legend(['Runge-kutta four order'])                         #This line creates the legend of the approximation.\n",
    "plt.grid()                                          #This line will create the grid on the plane."
   ]
  },
  {
   "cell_type": "markdown",
   "id": "marine-father",
   "metadata": {},
   "source": [
    "### ***c)***"
   ]
  },
  {
   "cell_type": "code",
   "execution_count": 6,
   "id": "objective-tourist",
   "metadata": {},
   "outputs": [
    {
     "data": {
      "image/png": "[encoded data removed]",
      "text/plain": [
       "<Figure size 432x288 with 1 Axes>"
      ]
     },
     "metadata": {
      "needs_background": "light"
     },
     "output_type": "display_data"
    }
   ],
   "source": [
    "import numpy as np              #This code will a library numpy which is used for mathematical functions like pi, sin, cos etc.\n",
    "import matplotlib.pyplot as plt #This code import the matplotlib.pyplot library which will give the visuals of our approximation.\n",
    "\n",
    "x_axis   = []                 #This code creates an empty list so that I can append the number of iterations from the loop with harvesting term.\n",
    "y_axis   = []                 #This code creates an empty list for appending Runga-kutta approximation after every loop with harvesting term.\n",
    "x_axis_1 = []                 #This code creates an empty list so that I can append the number of iterations from the loop without harvesting term.\n",
    "y_axis_1 = []                 #This code creates an empty list for appending Runga-kutta approximation after every loop without harvesting term.\n",
    "#The parameters r and K represent the growth rate and carrying capacity respectively\n",
    "r = 0.4\n",
    "K = 20\n",
    "\n",
    "#The initial population at t=0 \n",
    "y_0 = 2.44\n",
    "\n",
    "#step size of the estimation\n",
    "h = 0.01\n",
    "\n",
    "#n = x_n - x_0/h\n",
    "n = int(80/h)\n",
    "\n",
    "\n",
    "for i in range(n):\n",
    "    \n",
    "    k_1 = h*(r*y_0*(1-y_0/K)-y_0**2/(1+y_0**2))     #This code calculates the first k value(k1) of the Runga-kutta method.\n",
    "    \n",
    "    y_1 = y_0 + k_1/2                               #This code updates the function i.e hf(t_i+1/2*h,y_i + 1/2*k1).\n",
    "    \n",
    "    k_2 = h*(r*y_1*(1-y_1/K) - y_1**2/(1 + y_1**2)) #This code calculates the second k value(k2) of the Runga-kutta method.\n",
    "    \n",
    "    y_2 = y_0 + k_2/2                               #This code updates the function i.e hf(t_i+1/2*h,y_i + 1/2*k2).\n",
    "    \n",
    "    k_3 = h*(r*y_2*(1-y_2/K) - y_2**2/(1 + y_2**2)) #This code calculates the third k value(k3) of the Runga-kutta method.\n",
    "    \n",
    "    y_3 = y_0 +k_3                                  #This code updates the function i.e hf(t_i+1/2*h,y_i + 1/2*k3).\n",
    "    \n",
    "    k_4 = h*(r*y_3*(1-y_3/K) - y_3**2/(1 + y_2**2)) #This code calculates the fourth k value(k4) of the Runga-kutta method.\n",
    "    \n",
    "    k = (k_1/6 + k_2/3 + k_3/3 + k_4/6)             #This is just the sum of all the k value in the method.\n",
    "    \n",
    "    y  = y_0 + k                                    #This code updates the f(t,y) function so that it can iterate the runga-kutta method. \n",
    "    y_0 = y                                         #This assign the new y_0 from the y above.\n",
    "    \n",
    "    x_axis_1.append(i)                                #This line appends the number of iterations to plot against the Runga-kutta approximation with harvesting term.\n",
    "    y_axis_1.append(y)                                #This code appends all the Runga-kutta approximation with harvesting term.\n",
    "\n",
    "h = 0.01\n",
    "n = int(80/h)\n",
    "y_0 = 2.44\n",
    "r = 0.4\n",
    "K = 20\n",
    "for i in range(n):\n",
    "    k_1 = h*(r*y_0*(1-y_0/K))           #This code calculates the first k value(k1) of the Runga-kutta method without harvesting term.\n",
    "    \n",
    "    y_1 = y_0 + k_1/2                   #This code updates the function i.e hf(t_i+1/2*h,y_i + 1/2*k1) without harvesting term.\n",
    "    \n",
    "    k_2 = h*(r*y_1*(1-y_1/K))           #This code calculates the second k value(k2) of the Runga-kutta method without harvesting term.\n",
    "    \n",
    "    y_2 = y_0 + k_2/2                   #This code updates the function i.e hf(t_i+1/2*h,y_i + 1/2*k2) without harvesting term.\n",
    "    \n",
    "    k_3 = h*(r*y_2*(1-y_2/K))           #This code calculates the third k value(k3) of the Runga-kutta method without harvesting term.\n",
    "    \n",
    "    y_3 = y_0 +k_3                      #This code updates the function i.e hf(t_i+1/2*h,y_i + 1/2*k3) without harvesting term.\n",
    "    \n",
    "    k_4 = h*(r*y_3*(1-y_3/K))           #This code calculates the fourth k value(k4) of the Runga-kutta method without harvesting term.\n",
    "    \n",
    "    k = (k_1/6 + k_2/3 + k_3/3 + k_4/6) #This is just the sum of all the k value in the method.\n",
    "    \n",
    "    y  = y_0 + k                        #This code updates the f(t,y) function so that it can iterate the runga-kutta method without harvesting term. \n",
    "    y_0 = y                             #This assign the new y_0 from the y above.\n",
    "    \n",
    "    x_axis.append(i)                    #This line appends the number of iterations to plot against the Runga-kutta approximation without harvesting term.\n",
    "    y_axis.append(y)                    #This code appends all the Runga-kutta approximation without harvesting term.\n",
    "\n",
    "\n",
    "   \n",
    "plt.plot(x_axis,y_axis, color = 'r')     #This code plot out graph for the approximation without the harvesting term.\n",
    "plt.plot(x_axis_1,y_axis_1, color = 'k') #This code plot out graph for the approximation with the harvesting term.\n",
    "plt.title('Approximate solution with and without harvesting term')        #This line creates the title of the plot.\n",
    "plt.xlabel('x-axis')                     #This creates the x-axis of the graph.\n",
    "plt.ylabel('y-axis')                     #This creates the y-axis of the graph.\n",
    "plt.legend(['RK4 without harvesting term','RK4 with harvesting term']) #This line creates the legend of the approximation with distintion from the approximation with and without the harvesting term.\n",
    "plt.grid()                               #This line will create the grid on the plane."
   ]
  },
  {
   "cell_type": "code",
   "execution_count": null,
   "id": "conventional-cover",
   "metadata": {},
   "outputs": [],
   "source": []
  }
 ],
 "metadata": {
  "kernelspec": {
   "display_name": "Python 3",
   "language": "python",
   "name": "python3"
  },
  "language_info": {
   "codemirror_mode": {
    "name": "ipython",
    "version": 3
   },
   "file_extension": ".py",
   "mimetype": "text/x-python",
   "name": "python",
   "nbconvert_exporter": "python",
   "pygments_lexer": "ipython3",
   "version": "3.9.2"
  }
 },
 "nbformat": 4,
 "nbformat_minor": 5
}
